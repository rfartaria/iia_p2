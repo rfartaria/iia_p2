{
 "cells": [
  {
   "cell_type": "markdown",
   "metadata": {
    "colab_type": "text",
    "id": "LekFEsVbua_R"
   },
   "source": [
    "#  Jogo dos Rastros\n",
    "## Projeto nº 2\n",
    "### Introdução à Inteligência Artificial edição 2020/21\n",
    "\n",
    "\n",
    "## Grupo: XX\n",
    "\n",
    "### Elementos do Grupo\n",
    "\n",
    "Nome:\n",
    "\n",
    "Número:\n",
    "\n",
    "Nome:\n",
    "\n",
    "Número\n",
    "\n",
    "Nome:\n",
    "\n",
    "Número"
   ]
  },
  {
   "cell_type": "markdown",
   "metadata": {},
   "source": [
    "### Explicação da função e sua lógica\n",
    "(descrição)"
   ]
  },
  {
   "cell_type": "code",
   "execution_count": 4,
   "metadata": {
    "collapsed": true
   },
   "outputs": [],
   "source": [
    "from rastros import *\n",
    "\n",
    "def fun_aval_XX(state, player):\n",
    "    ### completar o código"
   ]
  },
  {
   "cell_type": "markdown",
   "metadata": {},
   "source": [
    "### Demonstração\n",
    "(Mostrem que o código está a funcionar, com exemplos adequados, executem um ou mais jogos, mostrem os seus resultados, exibam situações de jogo que demonstrem que a lógica da vossa função está correctamente implementada.)"
   ]
  }
 ],
 "metadata": {
  "colab": {
   "collapsed_sections": [],
   "name": "Untitled0.ipynb",
   "provenance": [],
   "version": "0.3.2"
  },
  "kernelspec": {
   "display_name": "Python 3",
   "language": "python",
   "name": "python3"
  },
  "language_info": {
   "codemirror_mode": {
    "name": "ipython",
    "version": 3
   },
   "file_extension": ".py",
   "mimetype": "text/x-python",
   "name": "python",
   "nbconvert_exporter": "python",
   "pygments_lexer": "ipython3",
   "version": "3.8.3"
  }
 },
 "nbformat": 4,
 "nbformat_minor": 2
}

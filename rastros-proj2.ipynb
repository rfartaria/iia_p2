{
 "cells": [
  {
   "cell_type": "markdown",
   "metadata": {},
   "source": [
    "#  Jogo Rastros\n",
    "## Projeto nº 2\n",
    "### Introdução à Inteligência Artificial - edição 2020/21\n",
    "#### Entrega: 28 de Outubro (1m antes da meia-noite)\n"
   ]
  },
  {
   "cell_type": "markdown",
   "metadata": {
    "colab_type": "text",
    "id": "LekFEsVbua_R"
   },
   "source": [
    "## O Jogo dos Rastros\n",
    "\n",
    "Este jogo é da autoria de Bill Taylor (1992). Pertence a uma família de jogos onde cada casa por onde as peças movimentadas passam deixa de estar disponível. Desta forma, o número de possibilidades diminui rapidamente garantindo partidas curtas.\n",
    "\n",
    "### Material\n",
    "Um tabuleiro quadrado (tipicamente 8 por 8), uma peça branca e pedras negras suficientes. Inicialmente, existe apenas uma peça no tabuleiro, a peça branca, que começa sempre no quadrado 4-5. Uma casa é identificada pelo par linha-coluna.\n",
    "\n",
    "\n",
    "<img src=\"tab1.png\" alt=\"Drawing\" style=\"width: 250px;\"/>"
   ]
  },
  {
   "cell_type": "markdown",
   "metadata": {},
   "source": [
    "### Objectivo do jogo\n",
    "Este jogo é jogado por dois jogadores, chamemos ao primeiro o jogador sul, que abre o jogo, e ao seu adversário o jogador norte. Cada jogador deseja colocar a peça branca num quadrado específico, o jogador sul quer atingir o quadrado etiquetado como s (8-1) que fica no fundo à esquerda (por isso lhe chamamos sul) e o segundo jogador quer atingir o quadrado n (1-8) que fica na zona norte do tabuleiro. Ganha o jogador que consiga levar primeiro a peça branca à sua casa final. Mesmo que seja o adversário a deslocar a peça para a casa final de um dos jogadores, este ganha. Vamos também adoptar uma variante do jogo original que define que um jogador ganha também se colocar a peça branca numa casa onde o adversário não possa jogar, bloqueando-o. \n",
    "\n",
    "### Regras\n",
    "Os jogadores vão jogando alternadamente e em cada turno, cada um dos jogadores desloca a peça branca para uma das casas livres adjacentes (linhas, colunas e diagonais). As casas livres são as casas ainda não visitadas pela peça branca. Todas os quadrados já visitados são marcados com uma peça preta. Deste modo, depois do movimento da peça branca, coloca-se uma peça negra no quadrado onde a peça branca se encontrava antes da jogada, marcando esse quadrado como visitado.\n"
   ]
  },
  {
   "cell_type": "markdown",
   "metadata": {},
   "source": [
    "### Exemplo de uma situação de jogo\n",
    "Consideremos a situação seguinte, em que é o jogador sul a fazer o próximo lance.\n",
    "\n",
    "\n",
    "<img src=\"tab2.png\" alt=\"Drawing\" style=\"width: 250px;\"/>\n",
    "\n",
    "Aparentemente, parece que a sua jogada natural seria 7-2, ou seja, aproximar-se do seu objectivo. Mas, perante essa jogada, o segundo jogador deslocará a branca para 6-3, afastando o primeiro jogador do seu quadrado final.\n",
    "\n",
    "<img src=\"tab3.png\" alt=\"Drawing\" style=\"width: 250px;\"/>\n",
    "\n",
    "O mesmo acontecerá se escolher 7-1. Nesse caso, o adversário (jogador norte) jogará para 6-1, afastando-o do seu objectivo. \n",
    "\n",
    "<img src=\"tab4.png\" alt=\"Drawing\" style=\"width: 250px;\"/>\n",
    "\n",
    "A coisa ficaria ainda pior se sul agora decidisse atacar, aproximando-se do objectivo, jogando para 7-2. Nesse caso, o segundo jogador defende-se para 6-3 e ficaria apenas um corredor livre para o quadrado final s, o que não é nada favorável ao jogador sul.\n",
    "\n",
    "\n",
    "<img src=\"tab5.png\" alt=\"Drawing\" style=\"width: 250px;\"/>\n",
    "\n",
    "É importante para um jogador não fechar os caminhos para o respectivo quadrado objectivo. Notem que um jogador com os caminhos para o respectivo objectivo totalmente fechados não está ainda derrotado, ele pode ainda ganhar, bloqueando o adversário. No entanto, parece ser um sinal de bom senso manter um caminho aberto para o objectivo. Assim, parece que é melhor jogar para trás, para a casa 5-3.\n",
    "\n",
    "\n",
    "<img src=\"tab6.png\" alt=\"Drawing\" style=\"width: 250px;\"/>"
   ]
  },
  {
   "cell_type": "markdown",
   "metadata": {},
   "source": [
    "### Objectivos do projecto\n",
    "Pretende-se que os alunos desenvolvam funções de avaliação a serem usadas pelo algoritmo alfa-beta e que as comparem fazendo um ou mais jogos entre elas. Todas as funções estão no programa Python rastros.py, que permite várias variantes de jogo: humano contra humano, humano contra máquina, e máquina contra máquina. \n",
    "\n",
    "O Jogador é composto por um nome e uma função que dado um jogo e um estado devolve a jogada escolhida. Nesse ficheiro há vários exemplos de jogadores muito simples, incluindo um jogador humano, que apenas pede ao utilizador a jogada escolhida.\n",
    "\n",
    "Os alunos devem fazer uma função de avaliação do tabuleiro que alimente o algoritmo minimax com cortes alfa-beta. No ficheiro rastros.py está um exemplo, o jogador Ar Livre, que valoriza mais tabuleiros os tabuleiros com muitas casas livres perto da peça branca, ou seja, valoriza mais os tabuleiros com maior número de jogadas possíveis (função num_livres). No ficheiro estão ainda outros exemplos de jogadores bastante incipientes, como o Bacoco (que escolhe uma jogada aleatória) ou o Obtuso SW e Obtuso NE, que favorecem sempre as respectivas direcções. \n",
    "Esperamos que estes jogadores vos sejam úteis para testar o programa, mas não esperem que eles joguem um jogo com qualidade suficiente para ganhar. \n"
   ]
  },
  {
   "cell_type": "markdown",
   "metadata": {},
   "source": [
    "### Representação dos estados do jogo\n",
    "\n",
    "Para construir as funções de avaliação é necessário perceber como são representadas as diferentes situações do tabuleiro no decurso dos jogos.\n",
    "\n",
    "Um estado do jogo é um triplo:\n",
    "\n",
    "```python \n",
    "EstadoRastros(Quem_Joga, Posição_Branca, Conjunto_Posições_Pretas)\n",
    "```\n",
    "\n",
    "* Quem_Joga corresponde ao do jogador (norte ou sul) que vai jogar. \n",
    "* Posição_Branca refere-se à casa onde está colocada a peça branca\n",
    "* Conjunto_Posições_Pretas é o conjunto com as casas que já foram ocupadas. \n",
    "\n",
    "Cada casa do tabuleiro é representada por um par de coordenadas (coluna, linha). \n",
    "\n",
    "\n"
   ]
  },
  {
   "cell_type": "markdown",
   "metadata": {},
   "source": [
    "\n",
    "### Estado inicial\n",
    "O estado que representa a situação inicial é um triplo: \n",
    "\n",
    "```python\n",
    "EstadoRastros(to_move='S', white=(4, 5), blacks={})\n",
    "```\n",
    "\n",
    "Se o jogador Sul abrir jogando para a casa (4, 4), o tabuleiro passa a ser representado por\n",
    "\n",
    "```python\n",
    "EstadoRastros(to_move='N', white=(4, 4), blacks={(4, 5)})\n",
    "```\n",
    "\n",
    "E se o jogador Norte responder jogando para a casa (3, 3) ficaremos com \n",
    "\n",
    "```python\n",
    "EstadoRastros(to_move='S', white=(3, 3), blacks={(4, 5), (4, 4)})\n",
    "```\n",
    "\n",
    "e assim sucessivamente.\n"
   ]
  },
  {
   "cell_type": "markdown",
   "metadata": {},
   "source": [
    "### Classe EstadoRastros\n",
    "\n",
    "Veja a definição da classe ```EstadoRastros```, como está no ficheiro ```rastros.py```.\n",
    "\n",
    "```python\n",
    "from jogos import *\n",
    "\n",
    "stateRastros = namedtuple('EstadoRastros', 'to_move, white, blacks')\n",
    "\n",
    "class EstadoRastros(stateRastros):\n",
    "\n",
    "    def ve_se_terminou(self):\n",
    "        \"devolve 1 se ganhou sul, -1 se ganhou norte, 0 se não terminou\"\n",
    "        if self.blacks==set():\n",
    "            return 0\n",
    "        justplayed = self.other(self.to_move) \n",
    "        if self.white==(8,1):\n",
    "            return 1 \n",
    "        elif self.white == (1,8):\n",
    "            return -1 \n",
    "        elif len(self.moves()) == 0:\n",
    "            return 1 if justplayed == 'S' else -1\n",
    "        else:\n",
    "            return 0\n",
    "        \n",
    "    def __init__(self, to_move, white, blacks):\n",
    "        self.fullboard = set([(x, y) for x in range(1, 9)\n",
    "                 for y in range(1, 9)])\n",
    "        self.terminou = self.ve_se_terminou() # = 1 se ganhou sul, -1 se ganhou norte, 0 se não terminou\n",
    "\n",
    "    def moves(self):\n",
    "        \"Legal moves are any square adjacent to white if not in blacks\"\n",
    "        alladjacent = [(self.white[0]+a, self.white[1]+b) for a in [-1,0,1] for b in [-1,0,1]]\n",
    "        return [p for p in alladjacent\n",
    "                if p not in self.blacks and p !=self.white and p in self.fullboard]\n",
    "\n",
    "    def compute_utility(self, player):\n",
    "        \"If player wins in this state, return 1; if otherplayer wins return -1; else return 0.\"\n",
    "        return self.terminou if player=='S' else -self.terminou\n",
    "\n",
    "    def other(self,player):\n",
    "        return 'N' if player == 'S' else 'S'\n",
    "\n",
    "    def posicao(self, a, b):\n",
    "        if (a,b)==self.white:\n",
    "            return 'B' \n",
    "        elif (a,b) in self.blacks:\n",
    "            return 'P'\n",
    "        else:\n",
    "            return '.'\n",
    "        \n",
    "    def display(self):\n",
    "        print(\" 12345678\")\n",
    "        for x in range(1, 9):\n",
    "            print(x, end=\"\")\n",
    "            for y in range(1, 9):\n",
    "                print(self.posicao(x, y), end='')\n",
    "            print(x)\n",
    "        print(\" 12345678 \")\n",
    "\n",
    "estado_inicial = EstadoRastros(to_move = 'S', white = (4,5), blacks=set())\n",
    "\n",
    "```"
   ]
  },
  {
   "cell_type": "markdown",
   "metadata": {},
   "source": [
    "### Movimentos das peças e alguns predicados disponíveis e que podem ser úteis.\n",
    "Além da representação do tabuleiro é conveniente conhecer algumas funções já definidas que poderão ser úteis para a construção da função de avaliação e para a implementação das jogadas.\n",
    "\n",
    "Na classe Rastros estão definidas as funções obrigatórias de Game:\n",
    "\n",
    "* ```python actions(state)``` : devolve uma lista de jogadas possíveis a partir de state\n",
    "* ```python result(state, move)```: devolve o novo estado que resulta de fazer a jogada move no estado state\n",
    "* ```python utility(state, player)```: devolve 1 para uma vitória de player e -1 para uma derrota de player\n",
    "\n",
    "Estão ainda definidas as funções\n",
    "* ```python __init__()```: define os atributos fullboard e initial (este é obrigatório)\n",
    "* ```python terminal_test(state)```: verifica se no estado state o jogo já terminou\n",
    "* ```pythondisplay()```: mostra o tabuleiro e indica o próximo jogador a jogar\n"
   ]
  },
  {
   "cell_type": "markdown",
   "metadata": {},
   "source": [
    "### Classe Rastros\n",
    "\n",
    "Já agora, aqui está a classe ```Rastros```, como definida em ```rastros.py```\n",
    "\n",
    "```python\n",
    "class Rastros(Game):\n",
    "    \"\"\"Play rastros on an 8 x 8 board, with Max (first player) playing 'S'.\n",
    "    A state has the player to move, a cached utility, a list of moves in\n",
    "    the form of a list of (x, y) positions, and a board, represented by the\n",
    "    position of the white mark and a list of positions of the black marks.\"\"\"\n",
    "\n",
    "    def __init__(self):\n",
    "        self.fullboard = set([(x, y) for x in range(1, 9)\n",
    "                 for y in range(1, 9)])\n",
    "        self.initial = EstadoRastros(to_move = 'S', white = (4,5), blacks=set())\n",
    "\n",
    "    def actions(self, state):\n",
    "        \"Legal moves are any square adjacent to white if not in blacks\"\n",
    "        return state.moves()\n",
    "\n",
    "    def result(self, state, move):\n",
    "        blacks = state.blacks.copy() # Sim, temos de duplicar o conjunto de blacks\n",
    "        blacks.add(state.white) ## marca a antiga white como black\n",
    "        return EstadoRastros(to_move=('N' if state.to_move == 'S' else 'S'),\n",
    "                         white=move,blacks=blacks) \n",
    "\n",
    "    def utility(self, state, player):\n",
    "        \"Return the value to player; 1 for win, -1 for loss, 0 otherwise.\"\n",
    "        \"If the player is S and .utility == 1 then return .utility\"\n",
    "        \"Otherwise return the symmetric. Note that the symmetric of 0 is 0\"\n",
    "        \"Note that player might be different from the player within the state that has just virtually played\"\n",
    "        aux = self.compute_utility(state)\n",
    "        return aux if player == 'S' else -aux\n",
    "\n",
    "    def terminal_test(self, state):\n",
    "        \"A state is terminal if someone won or there are no empty squares.\"\n",
    "        \"It assumes that the calculus if there is a winner is computed first and saved in .utility, thus it uses the value of .utility.\"\n",
    "        return state.terminou != 0\n",
    "\n",
    "\n",
    "    def display(self, state):\n",
    "        print(\"Tabuleiro:\")\n",
    "        state.display()\n",
    "        fim = self.terminal_test(state)\n",
    "        if  fim:\n",
    "            print(\"FIM do Jogo\")\n",
    "        else :\n",
    "            print(\"Próximo jogador:{}\\n\".format(state.to_move))\n",
    "\n",
    "```"
   ]
  },
  {
   "cell_type": "markdown",
   "metadata": {},
   "source": [
    "### Jogadores \n",
    "Como exemplificado no ```Rastros.py```, as instâncias da classe ```Jogador``` incluem um nome e uma função de escolha da jogada a efectuar. Para o torneio, devem apenas desenvolver uma heurística que será aplicada pelo algoritmo minimax alfa-beta definido no ficheiro ```jogos.py``` na função ```alphabeta_cutoff_search_new```. Para evitar que algum jogador mais hesitante fique eternamente a pensar, usaremos um limite de tempo para cada jogada. Quem demorar mais do que n segundos a pensar perde imediatamente o jogo. Notem que isto não significa que a função de avaliação tem n segundos para ser executada, já que ela é usada repetidas vezes por cada invocação do minimax alfa-beta.\n",
    "\n",
    "Tem no ficheiro ```rastros.py``` vários exemplos de jogadores muito simples, uns que escolhem apenas uma jogada da lista das possíveis, outros que têm funções heurísticas para serem usados pelo alba-beta. Os jogadores ```humano1``` e ```humano2``` pedem ao utilizador uma jogada de entre as possíveis. Usem-nos para se familiarizarem com o jogo e as suas nuances, e afinarem a vossa função heurística.\n",
    "\n",
    "Tem ainda código (comentado) para executar um pequeno campeonato entre os jogadores lá definidos, e apresentar uma tabela final de classificação com o número de vitórias de cada jogador."
   ]
  },
  {
   "cell_type": "markdown",
   "metadata": {},
   "source": [
    "### Vamos ver o código dos jogadores\n",
    "#### Estes são muito simples, apenas escolhem jogadas de entre as possíveis\n",
    "\n",
    "```python\n",
    "### o Bacoco escolhe uma jogada aleatória\n",
    "def bacoco(game, state):\n",
    "    return random.choice(state.moves())\n",
    "\n",
    "bacoco = Jogador(\"Bacoco\", bacoco)\n",
    "\n",
    "### o obtusoSW escolhe sempre a casa mais a Sul e de entre essas, a mais a Oeste\n",
    "def sudoeste(game, state):\n",
    "    moves = state.moves()\n",
    "    moves.sort(key = lambda t: (t[0],-t[1]))\n",
    "    return moves[-1]\n",
    "\n",
    "obtusoSW = Jogador(\"ObtusoSW\", sudoeste)\n",
    "\n",
    "### o obtusoNE escolhe sempre a casa mais a Norte e de entre essas, a mais a Leste\n",
    "\n",
    "def nordeste(game, state):\n",
    "    moves = state.moves()\n",
    "    moves.sort(key = lambda t: (-t[0],t[1]))\n",
    "    return moves[-1]\n",
    "\n",
    "obtusoNE = Jogador(\"ObtusoNE\", nordeste)\n",
    "\n",
    "### dois humanos para poderem jogar vocês mesmos\n",
    "def pergunta(game, state):\n",
    "    state.display()\n",
    "    print(\"Jogadas possíveis: \", state.moves())\n",
    "    return eval(input(state.to_move+\", para onde quer jogar? \"))\n",
    "    \n",
    "humano1 = Jogador(\"Pessoa1\", pergunta)\n",
    "humano2 = Jogador(\"Pessoa2\", pergunta)\n",
    "\n",
    "```"
   ]
  },
  {
   "cell_type": "markdown",
   "metadata": {},
   "source": [
    "#### Os jogadores que se seguem têm uma função heurística (de avaliação do tabuleiro) \n",
    "#### e usam o minimax alfa-beta para escolher a jogada\n",
    "\n",
    "```python\n",
    "### o Ar Livre gosta de tabuleiros com muitas casas vagas à volta da Branca\n",
    "#### a função heurística para avaliação de estado\n",
    "def num_livres(estado,jogador) :\n",
    "    \"maximiza o espaço livre junto à peça B\"\n",
    "    return len(estado.moves())\n",
    "   \n",
    "#### mais um jogador, agora com alpha-beta\n",
    "arlivre = Jogador(\"Ar Livre\",\n",
    "                  lambda game, state:\n",
    "                  alphabeta_cutoff_search_new(state,game,depth_for_all,eval_fn=num_livres))\n",
    "```\n",
    "### O jogador básico 'Basílio', que reconhece estados de vitória e de derrota e em jogos ainda não terminados valoriza apenas a distância da peça Branca à casa objectivo de cada jogador\n",
    "\n",
    "## Atenção a este, que será o vosso competidor, com depth=5\n",
    "\n",
    "```python\n",
    "##### heuristica para jogador básico\n",
    "# derrota vale -10, vitória vale 10,\n",
    "# cc subtrai distância da peça branca à casa objectivo\n",
    "\n",
    "def distancia (a, b):\n",
    "    return max(abs(a[0]-b[0]), abs(a[1]-b[1]))\n",
    "\n",
    "def f_aval_basico(estado, jogador):\n",
    "    if estado.terminou == 1:\n",
    "        return 10 if jogador == \"S\" else -10\n",
    "    elif estado.terminou == -1:\n",
    "        return 10 if jogador == \"N\" else -10\n",
    "    else:\n",
    "        obj = (8, 1) if jogador == \"S\" else (1, 8)\n",
    "        return 7-distancia(estado.white, obj)\n",
    "\n",
    "basilio = Jogador(\"Basilio\",\n",
    "                  lambda game, state:\n",
    "                  alphabeta_cutoff_search_new(state,game,depth,eval_fn=f_aval_basico))\n",
    "\n",
    "```"
   ]
  },
  {
   "cell_type": "markdown",
   "metadata": {},
   "source": [
    "### Jogar e ver o jogo\n",
    "No ficheiro ```rastros.py```estão definidas funções ```jogaRastros11(jog1, jog2)``` e ```jogaRastros11com_timeout(jog1, jog2, nsec)```, que fazem um jogo de ```jog1``` contra ```jog2```. Está ainda definida a função ```jogaRastrosNN(listaJog, listaAdv, nsec)``` que faz todos os jogos (com timeout) entre os jogadores de ```listaJog``` e os jogadores de ```listaAdv```. Repare que isto implica que os jogadores fazem dois jogos entre si, um como primeiro jogador e outro como segundo. O ```jogaRastros11```devolve a lista de jogadas feita e o resultado. Pode usar a função ```mostraJogo(listajog, verbose = False, step_by_step=False)``` para ver a sequência de jogadas efectuada no tabuleiro. Se invocar ```mostraJogo```com ```verbose = True``` tem mais detalhes, e se invocar com ```step_by_step = True``` tem de dar ```<enter>```para o próximo tabuleiro ser mostrado.\n",
    "\n"
   ]
  },
  {
   "cell_type": "markdown",
   "metadata": {},
   "source": [
    "### Vamos ver exemplos de como se invocam as funções para jogar"
   ]
  },
  {
   "cell_type": "code",
   "execution_count": 1,
   "metadata": {
    "collapsed": true
   },
   "outputs": [],
   "source": [
    "from rastros import *"
   ]
  },
  {
   "cell_type": "markdown",
   "metadata": {},
   "source": [
    "#### ObtusoSW contra Bacoco , jogamos primeiro e vemos o resultado"
   ]
  },
  {
   "cell_type": "code",
   "execution_count": 2,
   "metadata": {},
   "outputs": [
    {
     "name": "stdout",
     "output_type": "stream",
     "text": [
      "([('ObtusoSW', (5, 4)), ('Bacoco', (6, 4)), ('ObtusoSW', (7, 3)), ('Bacoco', (8, 3)), ('ObtusoSW', (8, 2)), ('Bacoco', (7, 1)), ('ObtusoSW', (8, 1))], 1)\n"
     ]
    }
   ],
   "source": [
    "jogo1 = jogaRastros11(obtusoSW, bacoco)\n",
    "print(jogo1)"
   ]
  },
  {
   "cell_type": "markdown",
   "metadata": {},
   "source": [
    "#### e depois vemos o jogo "
   ]
  },
  {
   "cell_type": "code",
   "execution_count": 3,
   "metadata": {},
   "outputs": [
    {
     "name": "stdout",
     "output_type": "stream",
     "text": [
      "ObtusoSW-->  (5, 4)\n",
      "Bacoco-->  (6, 4)\n",
      "ObtusoSW-->  (7, 3)\n",
      "Bacoco-->  (8, 3)\n",
      "ObtusoSW-->  (8, 2)\n",
      "Bacoco-->  (7, 1)\n",
      "ObtusoSW-->  (8, 1)\n",
      "Ganhou S\n"
     ]
    }
   ],
   "source": [
    "mostraJogo(jogo1[0])"
   ]
  },
  {
   "cell_type": "markdown",
   "metadata": {},
   "source": [
    "#### para ver os tabuleiros"
   ]
  },
  {
   "cell_type": "code",
   "execution_count": 4,
   "metadata": {},
   "outputs": [
    {
     "name": "stdout",
     "output_type": "stream",
     "text": [
      "Tabuleiro:\n",
      " 12345678\n",
      "1........1\n",
      "2........2\n",
      "3........3\n",
      "4....o...4\n",
      "5........5\n",
      "6........6\n",
      "7........7\n",
      "8........8\n",
      " 12345678 \n",
      "Próximo jogador:S\n",
      "\n",
      "ObtusoSW-->  (5, 4)\n",
      "Tabuleiro:\n",
      " 12345678\n",
      "1........1\n",
      "2........2\n",
      "3........3\n",
      "4....@...4\n",
      "5...o....5\n",
      "6........6\n",
      "7........7\n",
      "8........8\n",
      " 12345678 \n",
      "Próximo jogador:N\n",
      "\n",
      "Bacoco-->  (6, 4)\n",
      "Tabuleiro:\n",
      " 12345678\n",
      "1........1\n",
      "2........2\n",
      "3........3\n",
      "4....@...4\n",
      "5...@....5\n",
      "6...o....6\n",
      "7........7\n",
      "8........8\n",
      " 12345678 \n",
      "Próximo jogador:S\n",
      "\n",
      "ObtusoSW-->  (7, 3)\n",
      "Tabuleiro:\n",
      " 12345678\n",
      "1........1\n",
      "2........2\n",
      "3........3\n",
      "4....@...4\n",
      "5...@....5\n",
      "6...@....6\n",
      "7..o.....7\n",
      "8........8\n",
      " 12345678 \n",
      "Próximo jogador:N\n",
      "\n",
      "Bacoco-->  (8, 3)\n",
      "Tabuleiro:\n",
      " 12345678\n",
      "1........1\n",
      "2........2\n",
      "3........3\n",
      "4....@...4\n",
      "5...@....5\n",
      "6...@....6\n",
      "7..@.....7\n",
      "8..o.....8\n",
      " 12345678 \n",
      "Próximo jogador:S\n",
      "\n",
      "ObtusoSW-->  (8, 2)\n",
      "Tabuleiro:\n",
      " 12345678\n",
      "1........1\n",
      "2........2\n",
      "3........3\n",
      "4....@...4\n",
      "5...@....5\n",
      "6...@....6\n",
      "7..@.....7\n",
      "8.o@.....8\n",
      " 12345678 \n",
      "Próximo jogador:N\n",
      "\n",
      "Bacoco-->  (7, 1)\n",
      "Tabuleiro:\n",
      " 12345678\n",
      "1........1\n",
      "2........2\n",
      "3........3\n",
      "4....@...4\n",
      "5...@....5\n",
      "6...@....6\n",
      "7o.@.....7\n",
      "8.@@.....8\n",
      " 12345678 \n",
      "Próximo jogador:S\n",
      "\n",
      "ObtusoSW-->  (8, 1)\n",
      "Tabuleiro:\n",
      " 12345678\n",
      "1........1\n",
      "2........2\n",
      "3........3\n",
      "4....@...4\n",
      "5...@....5\n",
      "6...@....6\n",
      "7@.@.....7\n",
      "8o@@.....8\n",
      " 12345678 \n",
      "FIM do Jogo\n",
      "Ganhou S\n"
     ]
    }
   ],
   "source": [
    "mostraJogo(jogo1[0], verbose = True)"
   ]
  },
  {
   "cell_type": "markdown",
   "metadata": {},
   "source": [
    "#### Podemos fazer um campeonato todos contra todos , neste caso com todos os jogadores definidos em rastros.py (excepto os humanos)"
   ]
  },
  {
   "cell_type": "code",
   "execution_count": 5,
   "metadata": {
    "collapsed": true
   },
   "outputs": [],
   "source": [
    "todosJog = [bacoco, obtusoSW, obtusoNE, arlivre, basilio]\n",
    "campeonato = jogaRastrosNN(todosJog, todosJog, nsec=10)"
   ]
  },
  {
   "cell_type": "markdown",
   "metadata": {},
   "source": [
    "#### agora construímos a tabela classificativa"
   ]
  },
  {
   "cell_type": "code",
   "execution_count": 6,
   "metadata": {},
   "outputs": [
    {
     "name": "stdout",
     "output_type": "stream",
     "text": [
      "JOGADOR VITÓRIAS\n",
      "Basilio        5\n",
      "Bacoco         4\n",
      "ObtusoNE       4\n",
      "Ar Livre       4\n",
      "ObtusoSW       3\n"
     ]
    }
   ],
   "source": [
    "resultado_jogos = [(a,b,n) for (a,b,(x,n)) in campeonato]\n",
    "tabela = dict([(jog.nome, 0) for jog in todosJog])\n",
    "for jogo in resultado_jogos:\n",
    "    if jogo[2] == 1:\n",
    "        tabela[jogo[0]] += 1\n",
    "    else:\n",
    "        tabela[jogo[1]] += 1\n",
    "classificacao = list(tabela.items())\n",
    "classificacao.sort(key=lambda p: -p[1])\n",
    "print(\"JOGADOR\", \"VITÓRIAS\")\n",
    "for jog in classificacao:\n",
    "    print('{:11}'.format(jog[0]), '{:>4}'.format(jog[1]))"
   ]
  },
  {
   "cell_type": "markdown",
   "metadata": {},
   "source": [
    "#### a função ```faz_campeonato(listaJogadores, nsec)```faz isto mesmo, basta invocar com todosJog, ou com a lista de jogadores que se quiser, por exemplo"
   ]
  },
  {
   "cell_type": "code",
   "execution_count": 7,
   "metadata": {},
   "outputs": [
    {
     "name": "stdout",
     "output_type": "stream",
     "text": [
      "JOGADOR VITÓRIAS\n",
      "Bacoco         3\n",
      "Basilio        2\n",
      "Ar Livre       1\n"
     ]
    }
   ],
   "source": [
    "faz_campeonato([bacoco, arlivre, basilio])"
   ]
  },
  {
   "cell_type": "markdown",
   "metadata": {},
   "source": [
    "### Código e Relatório\n",
    "O  relatório é **obrigatório** e também o formato do ficheiro de submissão: o código e o relatório têm de ser entregues conjuntamente num único ficheiro Jupyter Notebook. Qualquer trabalho que não tenha relatório (só o código) ou que não cumpra esse formato não é avaliado e tem nota zero.\n",
    "\n",
    "No notebook podem explicar a vossa função heurística e o seu racional, ilustrar e correr o código e apresentar os testes que fizeram. \n",
    "\n",
    "Nós fornecemos um ficheiro esqueleto, ***IIA2021-proj2-XX.ipynb***, (substituam XX pelo número do grupo). Não se esqueçam de preencher os nomes e números dos elementos do vosso grupo."
   ]
  },
  {
   "cell_type": "markdown",
   "metadata": {},
   "source": [
    "### Código a não ser alterado\n",
    "**Não alterem** nem o ***rastros.py*** nem o ***jogos.py*** e **não os devem submeter!** Iremos correr os mesmos 2 ficheiros para todos."
   ]
  },
  {
   "cell_type": "markdown",
   "metadata": {},
   "source": [
    "### Avaliação\n",
    "A classificação do vosso projecto depende do desempenho do vosso jogador num torneio de todos-contra-todos. Assim, procurem fazer uma boa função heurística, que assegure muitas vitórias. O grupo que tiver mais vitórias terá 20 valores. \n",
    "\n",
    "No torneio vamos incluir o nosso jogador Basilio, cuja heurística atribui 10 pontos à vitória, -10 pontos à derrota e 7 menos a distância da peça branca ao objectivo aos tabuleiros intermédios, ou seja, tenta ir em linha recta para o seu objectivo.\n",
    "\n",
    "Quem tiver o mesmo número de vitórias do que o Basilio terá 10 valores. Quem tiver menos vitórias do que o Basilio terá negativa.\n",
    "\n"
   ]
  },
  {
   "cell_type": "markdown",
   "metadata": {},
   "source": [
    "### Entrega\n",
    "Devem entregar dois ficheiros, um chamado ```IIA2021-proj2-XX.ipynb```, onde XX é o vosso número de grupo, e outro ```IIA2021-proj2-XX.py```. \n",
    "\n",
    "Em ```IIA2021-proj2-XX.py``` devem estar o código da função que nós vamos executar no torneio (incluindo eventuais funções auxiliares), que devolve a vossa avaliação do tabuleiro em state, da perspectiva de player (‘N’ ou ‘S’) , assumindo que quanto mais alto for o valor, melhor é para player.\n",
    "\n",
    "Em ```IIA2021-proj2-XX.ipynb``` deve estar o mesmo código e ainda um relatório onde explicam a função e justificam as vossas opções, mostram exemplos e experiências de execução, etc.\n"
   ]
  },
  {
   "cell_type": "markdown",
   "metadata": {},
   "source": [
    "### Prazo\n",
    "Dois ficheiros ***IIA2021-proj2-XX.ipynb*** e ***IIA2021-proj2-XX.py*** até ao dia **28 de Outubro** às 23:59"
   ]
  }
 ],
 "metadata": {
  "colab": {
   "collapsed_sections": [],
   "name": "Untitled0.ipynb",
   "provenance": [],
   "version": "0.3.2"
  },
  "kernelspec": {
   "display_name": "Python 3",
   "language": "python",
   "name": "python3"
  },
  "language_info": {
   "codemirror_mode": {
    "name": "ipython",
    "version": 3
   },
   "file_extension": ".py",
   "mimetype": "text/x-python",
   "name": "python",
   "nbconvert_exporter": "python",
   "pygments_lexer": "ipython3",
   "version": "3.8.3"
  }
 },
 "nbformat": 4,
 "nbformat_minor": 2
}
